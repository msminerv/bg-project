{
 "cells": [
  {
   "cell_type": "markdown",
   "metadata": {},
   "source": [
    "# Approach 3 (Specific Companies Only)"
   ]
  },
  {
   "cell_type": "markdown",
   "metadata": {},
   "source": [
    "**Idea:** Since what we are really after is just the ‘difference’ in hierarchy across firms, and not necessarily in classifying specific jobs into specific levels, what we can try to do instead is to use job title variance as a proxy for hierarchy. Specifically, we can see if we can use the occupational codes as a starting point for classifying functions in a firm (a very rough proxy of course), and then clean the titles within each occupation to get rid of any noise. We can then treat the variation in titles within an occupation as likely indicative of either: (1) differences in hierarchical levels, or (2) differences in divisions. Once we have these lists for each firm, we can see if we can construct some algorithm or use human coders to separate out the two dimensions. \n",
    "\n",
    "> The end goal is to pick out, for each firm, the occupations with the longest list of unique job titles and use these occupations to tell us the likely maximum length of vertical hierarchy and the likely maximum number of divisions in this firm.\n",
    "\n",
    "## Assumptions: \n",
    "1. Does BG capture occupations accurately? How to check: how many different occupations are there in any given firm?\n",
    "2. Do occupations overlap with functions? (CanonJobTitle)\n",
    "3. Check distributions of job titles within each occupation: check whether job titles within occupations vary mostly vertically\n",
    "4. Do we observe skills variation across occupations (=divisions)? Can we use the skill variation to capture product differentiation?\n",
    "5. Are we able to capture function names & geography names?\n",
    "\n",
    "## Steps: \n",
    "1. Identify all unique job titles for each firm and count them\n",
    "2. Identify all unique occupations for each firm and count them\n",
    "3. Say we get 20 job titles and 5 occupations, and we know how many job titles are in each occupation\n",
    "4. We assume that occupation = division (obviously very very crude, but bear with me) \n",
    "5. We assume titles within occupations differ only in level on the org chart\n",
    "6. We then take the occupation with the largest number of unique titles and use that number as the total number of firm layers"
   ]
  },
  {
   "cell_type": "code",
   "execution_count": 1,
   "metadata": {},
   "outputs": [],
   "source": [
    "import matplotlib.pyplot as plt\n",
    "import pandas as pd\n",
    "import numpy as np\n",
    "from numba import jit, njit, vectorize\n",
    "from glob import glob\n",
    "import re\n",
    "import seaborn as sns\n",
    "import pickle\n",
    "import joblib\n",
    "import nltk\n",
    "\n",
    "import concurrent.futures\n",
    "\n",
    "pd.set_option('display.max_columns', None) \n",
    "\n",
    "%matplotlib inline"
   ]
  },
  {
   "cell_type": "code",
   "execution_count": 2,
   "metadata": {},
   "outputs": [],
   "source": [
    "dtypes={'JobID': np.str, 'CleanJobTitle': np.str, 'JobDomain': np.str, \n",
    "        'CanonCity': np.str, 'CanonCountry': np.str, 'CanonState': np.str, \n",
    "        'JobText': np.str, 'JobURL': np.str, 'PostingHTML': np.float64, \n",
    "        'Source': np.str, 'JobReferenceID': np.str, 'Email': np.str, \n",
    "        'CanonEmployer': np.str, 'Latitude': np.str, 'Longitude': np.str, \n",
    "        'CanonIntermediary': np.str, 'Telephone': np.str, 'CanonJobTitle': 'object', \n",
    "        'CanonCounty': np.str, 'DivisionCode': np.float64, 'MSA': np.str, 'LMA': np.str,\n",
    "        'InternshipFlag': np.str, 'ConsolidatedONET': np.str, 'CanonCertification': np.str, \n",
    "        'CanonSkillClusters': np.str, 'CanonSkills': np.str, 'IsDuplicate': np.str, \n",
    "        'IsDuplicateOf': np.float64, 'CanonMaximumDegree': np.str, 'CanonMinimumDegree': np.str, \n",
    "        'CanonOtherDegrees': np.str, 'CanonPreferredDegrees': np.str,\n",
    "        'CanonRequiredDegrees': np.str, 'CIPCode': np.str, 'StandardMajor': np.str, \n",
    "        'MaxExperience': np.float64, 'MinExperience': np.float64, 'ConsolidatedInferredNAICS': np.float64, \n",
    "        'BGTOcc': np.str, 'MaxAnnualSalary': np.float64, 'MaxHourlySalary': np.float64, \n",
    "        'MinAnnualSalary': np.float64, 'MinHourlySalary': np.float64, 'YearsOfExperience': np.str, \n",
    "        'CanonJobHours': np.str, 'CanonJobType': np.str, 'CanonPostalCode': np.str, \n",
    "        'CanonYearsOfExperienceCanonLevel': np.str, 'CanonYearsOfExperienceLevel': np.str, \n",
    "        'ConsolidatedTitle': np.str, 'Language': np.str, 'BGTSubOcc': np.str, 'JobDate': np.str,\n",
    "        'ConsolidatedDegreeLevels': np.str, 'MaxDegreeLevel': np.float64, 'MinDegreeLevel': np.float64\n",
    "                       }"
   ]
  },
  {
   "cell_type": "markdown",
   "metadata": {},
   "source": [
    "## Data\n",
    "\n",
    "We will be using the combined dataset we saved in during Approach 2, which contains the matched occupations to each one of the companies."
   ]
  },
  {
   "cell_type": "code",
   "execution_count": 3,
   "metadata": {
    "tags": []
   },
   "outputs": [
    {
     "name": "stdout",
     "output_type": "stream",
     "text": [
      "CPU times: user 23.9 s, sys: 19.2 s, total: 43.2 s\n",
      "Wall time: 1min 3s\n"
     ]
    },
    {
     "data": {
      "text/html": [
       "<div>\n",
       "<style scoped>\n",
       "    .dataframe tbody tr th:only-of-type {\n",
       "        vertical-align: middle;\n",
       "    }\n",
       "\n",
       "    .dataframe tbody tr th {\n",
       "        vertical-align: top;\n",
       "    }\n",
       "\n",
       "    .dataframe thead th {\n",
       "        text-align: right;\n",
       "    }\n",
       "</style>\n",
       "<table border=\"1\" class=\"dataframe\">\n",
       "  <thead>\n",
       "    <tr style=\"text-align: right;\">\n",
       "      <th></th>\n",
       "      <th>BGTOcc</th>\n",
       "      <th>BGTSubOcc</th>\n",
       "      <th>CanonCity</th>\n",
       "      <th>CanonCounty</th>\n",
       "      <th>CanonEmployer</th>\n",
       "      <th>CanonJobHours</th>\n",
       "      <th>CanonJobTitle</th>\n",
       "      <th>CanonJobType</th>\n",
       "      <th>CanonSkillClusters</th>\n",
       "      <th>CanonSkills</th>\n",
       "      <th>CanonState</th>\n",
       "      <th>CanonYearsOfExperienceLevel</th>\n",
       "      <th>CleanJobTitle</th>\n",
       "      <th>ConsolidatedInferredNAICS</th>\n",
       "      <th>ConsolidatedONET</th>\n",
       "      <th>ConsolidatedTitle</th>\n",
       "      <th>DivisionCode</th>\n",
       "      <th>JobDate</th>\n",
       "      <th>JobID</th>\n",
       "      <th>JobText</th>\n",
       "      <th>LMA</th>\n",
       "      <th>Latitude</th>\n",
       "      <th>Longitude</th>\n",
       "      <th>MSA</th>\n",
       "      <th>MinExperience</th>\n",
       "      <th>occu_code</th>\n",
       "      <th>occu_text</th>\n",
       "    </tr>\n",
       "  </thead>\n",
       "  <tbody>\n",
       "    <tr>\n",
       "      <th>0</th>\n",
       "      <td>412031</td>\n",
       "      <td>Retail Sales Associate (General)</td>\n",
       "      <td>Foley</td>\n",
       "      <td>Baldwin</td>\n",
       "      <td>Chrysler</td>\n",
       "      <td>fulltime</td>\n",
       "      <td>Sales Associate</td>\n",
       "      <td>permanent</td>\n",
       "      <td>Sales: Specialized Sales;Specialized Skills|Sp...</td>\n",
       "      <td>{'Automotive Sales': 'Sales: Specialized Sales...</td>\n",
       "      <td>AL</td>\n",
       "      <td>NaN</td>\n",
       "      <td>Sales Associate</td>\n",
       "      <td>336111.0</td>\n",
       "      <td>41203100</td>\n",
       "      <td>Sales Associate</td>\n",
       "      <td>NaN</td>\n",
       "      <td>2017-03-25</td>\n",
       "      <td>38201188919</td>\n",
       "      <td>Sales Associates\\n-Foley,AL36535\\n-3781 S McKe...</td>\n",
       "      <td>MC011930</td>\n",
       "      <td>30.3962</td>\n",
       "      <td>-87.7019</td>\n",
       "      <td>19300: Metropolitan Statistical Area</td>\n",
       "      <td>NaN</td>\n",
       "      <td>412031</td>\n",
       "      <td>Retail Salespersons</td>\n",
       "    </tr>\n",
       "    <tr>\n",
       "      <th>1</th>\n",
       "      <td>412031</td>\n",
       "      <td>Retail Sales Associate (General)</td>\n",
       "      <td>Foley</td>\n",
       "      <td>Baldwin</td>\n",
       "      <td>Chrysler</td>\n",
       "      <td>fulltime</td>\n",
       "      <td>Sales Associate</td>\n",
       "      <td>permanent</td>\n",
       "      <td>Sales: Specialized Sales;Specialized Skills|Co...</td>\n",
       "      <td>{'Automotive Sales': 'Sales: Specialized Sales...</td>\n",
       "      <td>AL</td>\n",
       "      <td>NaN</td>\n",
       "      <td>Automotive Sales Associate</td>\n",
       "      <td>336111.0</td>\n",
       "      <td>41203100</td>\n",
       "      <td>Sales Associate</td>\n",
       "      <td>NaN</td>\n",
       "      <td>2017-03-24</td>\n",
       "      <td>38200222343</td>\n",
       "      <td>AUTO SALES ASSOCIATES, ENTRY LEVEL\\n\\nGULF CHR...</td>\n",
       "      <td>MC011930</td>\n",
       "      <td>30.3962</td>\n",
       "      <td>-87.7019</td>\n",
       "      <td>19300: Metropolitan Statistical Area</td>\n",
       "      <td>NaN</td>\n",
       "      <td>412031</td>\n",
       "      <td>Retail Salespersons</td>\n",
       "    </tr>\n",
       "    <tr>\n",
       "      <th>2</th>\n",
       "      <td>412031</td>\n",
       "      <td>Retail Sales Associate (General)</td>\n",
       "      <td>Arlington Heights</td>\n",
       "      <td>Cook</td>\n",
       "      <td>Chrysler</td>\n",
       "      <td>fulltime</td>\n",
       "      <td>Sales Associate</td>\n",
       "      <td>permanent</td>\n",
       "      <td>Sales: Specialized Sales;Specialized Skills|Co...</td>\n",
       "      <td>{'Automotive Sales': 'Sales: Specialized Sales...</td>\n",
       "      <td>IL</td>\n",
       "      <td>mid</td>\n",
       "      <td>Automotive Sales Associate</td>\n",
       "      <td>336111.0</td>\n",
       "      <td>41203100</td>\n",
       "      <td>Sales Associate</td>\n",
       "      <td>16974.0</td>\n",
       "      <td>2017-03-13</td>\n",
       "      <td>38195316884</td>\n",
       "      <td>Automotive Sales Associate\\n\\nArlington Height...</td>\n",
       "      <td>DV171697|MT171698</td>\n",
       "      <td>41.8792</td>\n",
       "      <td>-87.9747</td>\n",
       "      <td>16980: Metropolitan Statistical Area|176: Comb...</td>\n",
       "      <td>3.0</td>\n",
       "      <td>412031</td>\n",
       "      <td>Retail Salespersons</td>\n",
       "    </tr>\n",
       "  </tbody>\n",
       "</table>\n",
       "</div>"
      ],
      "text/plain": [
       "   BGTOcc                         BGTSubOcc          CanonCity CanonCounty  \\\n",
       "0  412031  Retail Sales Associate (General)              Foley     Baldwin   \n",
       "1  412031  Retail Sales Associate (General)              Foley     Baldwin   \n",
       "2  412031  Retail Sales Associate (General)  Arlington Heights        Cook   \n",
       "\n",
       "  CanonEmployer CanonJobHours    CanonJobTitle CanonJobType  \\\n",
       "0      Chrysler      fulltime  Sales Associate    permanent   \n",
       "1      Chrysler      fulltime  Sales Associate    permanent   \n",
       "2      Chrysler      fulltime  Sales Associate    permanent   \n",
       "\n",
       "                                  CanonSkillClusters  \\\n",
       "0  Sales: Specialized Sales;Specialized Skills|Sp...   \n",
       "1  Sales: Specialized Sales;Specialized Skills|Co...   \n",
       "2  Sales: Specialized Sales;Specialized Skills|Co...   \n",
       "\n",
       "                                         CanonSkills CanonState  \\\n",
       "0  {'Automotive Sales': 'Sales: Specialized Sales...         AL   \n",
       "1  {'Automotive Sales': 'Sales: Specialized Sales...         AL   \n",
       "2  {'Automotive Sales': 'Sales: Specialized Sales...         IL   \n",
       "\n",
       "  CanonYearsOfExperienceLevel               CleanJobTitle  \\\n",
       "0                         NaN             Sales Associate   \n",
       "1                         NaN  Automotive Sales Associate   \n",
       "2                         mid  Automotive Sales Associate   \n",
       "\n",
       "   ConsolidatedInferredNAICS ConsolidatedONET ConsolidatedTitle  DivisionCode  \\\n",
       "0                   336111.0         41203100   Sales Associate           NaN   \n",
       "1                   336111.0         41203100   Sales Associate           NaN   \n",
       "2                   336111.0         41203100   Sales Associate       16974.0   \n",
       "\n",
       "     JobDate        JobID                                            JobText  \\\n",
       "0 2017-03-25  38201188919  Sales Associates\\n-Foley,AL36535\\n-3781 S McKe...   \n",
       "1 2017-03-24  38200222343  AUTO SALES ASSOCIATES, ENTRY LEVEL\\n\\nGULF CHR...   \n",
       "2 2017-03-13  38195316884  Automotive Sales Associate\\n\\nArlington Height...   \n",
       "\n",
       "                 LMA Latitude Longitude  \\\n",
       "0           MC011930  30.3962  -87.7019   \n",
       "1           MC011930  30.3962  -87.7019   \n",
       "2  DV171697|MT171698  41.8792  -87.9747   \n",
       "\n",
       "                                                 MSA  MinExperience  \\\n",
       "0               19300: Metropolitan Statistical Area            NaN   \n",
       "1               19300: Metropolitan Statistical Area            NaN   \n",
       "2  16980: Metropolitan Statistical Area|176: Comb...            3.0   \n",
       "\n",
       "   occu_code            occu_text  \n",
       "0     412031  Retail Salespersons  \n",
       "1     412031  Retail Salespersons  \n",
       "2     412031  Retail Salespersons  "
      ]
     },
     "execution_count": 3,
     "metadata": {},
     "output_type": "execute_result"
    }
   ],
   "source": [
    "%%time\n",
    "\n",
    "df = pd.read_csv('~/Dropbox/Burning Glass/Data/comps_occupations_merged.csv',\n",
    "                 low_memory=False, parse_dates=['JobDate'], dtype=dtypes)\n",
    "\n",
    "# Concatenate all of the datasets into one\n",
    "df.reset_index(drop=True, inplace=True)\n",
    "df.head(3)"
   ]
  },
  {
   "cell_type": "code",
   "execution_count": 5,
   "metadata": {
    "tags": []
   },
   "outputs": [
    {
     "name": "stdout",
     "output_type": "stream",
     "text": [
      "<class 'pandas.core.frame.DataFrame'>\n",
      "RangeIndex: 540143 entries, 0 to 540142\n",
      "Data columns (total 27 columns):\n",
      " #   Column                       Non-Null Count   Dtype         \n",
      "---  ------                       --------------   -----         \n",
      " 0   BGTOcc                       540143 non-null  object        \n",
      " 1   BGTSubOcc                    540122 non-null  object        \n",
      " 2   CanonCity                    535037 non-null  object        \n",
      " 3   CanonCounty                  533867 non-null  object        \n",
      " 4   CanonEmployer                540143 non-null  object        \n",
      " 5   CanonJobHours                303355 non-null  object        \n",
      " 6   CanonJobTitle                366347 non-null  object        \n",
      " 7   CanonJobType                 304541 non-null  object        \n",
      " 8   CanonSkillClusters           532116 non-null  object        \n",
      " 9   CanonSkills                  540143 non-null  object        \n",
      " 10  CanonState                   540126 non-null  object        \n",
      " 11  CanonYearsOfExperienceLevel  349183 non-null  object        \n",
      " 12  CleanJobTitle                540126 non-null  object        \n",
      " 13  ConsolidatedInferredNAICS    536574 non-null  float64       \n",
      " 14  ConsolidatedONET             540143 non-null  object        \n",
      " 15  ConsolidatedTitle            540130 non-null  object        \n",
      " 16  DivisionCode                 273912 non-null  float64       \n",
      " 17  JobDate                      540143 non-null  datetime64[ns]\n",
      " 18  JobID                        540143 non-null  object        \n",
      " 19  JobText                      540143 non-null  object        \n",
      " 20  LMA                          531863 non-null  object        \n",
      " 21  Latitude                     535054 non-null  object        \n",
      " 22  Longitude                    535054 non-null  object        \n",
      " 23  MSA                          524880 non-null  object        \n",
      " 24  MinExperience                345300 non-null  float64       \n",
      " 25  occu_code                    540143 non-null  int64         \n",
      " 26  occu_text                    540143 non-null  object        \n",
      "dtypes: datetime64[ns](1), float64(3), int64(1), object(22)\n",
      "memory usage: 3.4 GB\n"
     ]
    }
   ],
   "source": [
    "df.info(memory_usage='deep')"
   ]
  },
  {
   "cell_type": "markdown",
   "metadata": {},
   "source": [
    "We will define a path for saving the output of all assumptions in approach 2 below."
   ]
  },
  {
   "cell_type": "code",
   "execution_count": 6,
   "metadata": {},
   "outputs": [],
   "source": [
    "path_assumptions = '/Users/ramonperez/Dropbox/Burning Glass/Analysis/approach_2/'"
   ]
  },
  {
   "cell_type": "markdown",
   "metadata": {},
   "source": [
    "# The first three assumptions in Approach 3 can be found in Approach 2."
   ]
  },
  {
   "cell_type": "markdown",
   "metadata": {},
   "source": [
    "## Assumptions 1\n",
    "> Does BG capture occupations accurately?\n",
    "\n",
    "How to check --> how many different occupations are there in any given firm?"
   ]
  },
  {
   "cell_type": "markdown",
   "metadata": {},
   "source": [
    "## Assumptions 2\n",
    "\n",
    "> Do occupations overlap with functions? (CanonJobTitle)"
   ]
  },
  {
   "cell_type": "markdown",
   "metadata": {},
   "source": [
    "## Assumptions 3\n",
    "\n",
    "> Check distributions of job titles within each occupation: check whether job titles within occupations vary mostly vertically"
   ]
  },
  {
   "cell_type": "markdown",
   "metadata": {},
   "source": [
    "## Assumptions 4\n",
    "\n",
    "> Do we observe skills variation across occupations (=divisions)? Can we use the skill variation to capture product differentiation?\n",
    "\n",
    "1. Most common skills found in all jobs within an occupation\n",
    "    - Top 20\n",
    "    - Bottom 20\n",
    "2. Skills per CanonYearsOfExperienceLevel\n",
    "3. Variation of skills at different levels and within similar companies, for example, top 20 skills in a high-level job at McKinsey and BCG"
   ]
  },
  {
   "cell_type": "code",
   "execution_count": 7,
   "metadata": {},
   "outputs": [],
   "source": [
    "import ast\n",
    "from typing import List\n",
    "from pprint import pprint"
   ]
  },
  {
   "cell_type": "code",
   "execution_count": 8,
   "metadata": {
    "tags": []
   },
   "outputs": [
    {
     "name": "stdout",
     "output_type": "stream",
     "text": [
      "dict_values(['Sales: Specialized Sales;Specialized Skills', 'Specialized Skills', 'Marketing and Public Relations: Marketing Software;Specialized Skills', 'Customer and Client Support: Basic Customer Service;Specialized Skills', 'Sales: Inside Sales;Specialized Skills', 'Sales: Outside Sales;Specialized Skills', 'Specialized Skills', 'Sales: Retail Sales;Specialized Skills', 'Sales: General Sales;Specialized Skills', 'Specialized Skills'])\n"
     ]
    }
   ],
   "source": [
    "pprint(ast.literal_eval(df['CanonSkills'][0]).values())"
   ]
  },
  {
   "cell_type": "code",
   "execution_count": 9,
   "metadata": {},
   "outputs": [],
   "source": [
    "def clean_skill_keys(data: str) -> List[str]:\n",
    "    temp = ast.literal_eval(data)\n",
    "    return list(temp.keys())\n",
    "\n",
    "def clean_skill_values(data: str) -> List[str]:\n",
    "    temp = ast.literal_eval(data)\n",
    "    return list(temp.values())"
   ]
  },
  {
   "cell_type": "code",
   "execution_count": 10,
   "metadata": {
    "tags": []
   },
   "outputs": [
    {
     "name": "stdout",
     "output_type": "stream",
     "text": [
      "CPU times: user 51.7 s, sys: 3.54 s, total: 55.2 s\n",
      "Wall time: 57 s\n"
     ]
    },
    {
     "data": {
      "text/html": [
       "<div>\n",
       "<style scoped>\n",
       "    .dataframe tbody tr th:only-of-type {\n",
       "        vertical-align: middle;\n",
       "    }\n",
       "\n",
       "    .dataframe tbody tr th {\n",
       "        vertical-align: top;\n",
       "    }\n",
       "\n",
       "    .dataframe thead th {\n",
       "        text-align: right;\n",
       "    }\n",
       "</style>\n",
       "<table border=\"1\" class=\"dataframe\">\n",
       "  <thead>\n",
       "    <tr style=\"text-align: right;\">\n",
       "      <th></th>\n",
       "      <th>clean_skill_keys</th>\n",
       "      <th>clean_skill_values</th>\n",
       "    </tr>\n",
       "  </thead>\n",
       "  <tbody>\n",
       "    <tr>\n",
       "      <th>0</th>\n",
       "      <td>[Automotive Sales, Business-to-Business, Busin...</td>\n",
       "      <td>[Sales: Specialized Sales;Specialized Skills, ...</td>\n",
       "    </tr>\n",
       "    <tr>\n",
       "      <th>1</th>\n",
       "      <td>[Automotive Sales, Communication Skills, Custo...</td>\n",
       "      <td>[Sales: Specialized Sales;Specialized Skills, ...</td>\n",
       "    </tr>\n",
       "    <tr>\n",
       "      <th>2</th>\n",
       "      <td>[Automotive Sales, Communication Skills, Custo...</td>\n",
       "      <td>[Sales: Specialized Sales;Specialized Skills, ...</td>\n",
       "    </tr>\n",
       "    <tr>\n",
       "      <th>3</th>\n",
       "      <td>[Automotive Sales, Communication Skills, Custo...</td>\n",
       "      <td>[Sales: Specialized Sales;Specialized Skills, ...</td>\n",
       "    </tr>\n",
       "    <tr>\n",
       "      <th>4</th>\n",
       "      <td>[Buying Experience, Customer Service, Product ...</td>\n",
       "      <td>[Supply Chain and Logistics: Procurement;Speci...</td>\n",
       "    </tr>\n",
       "  </tbody>\n",
       "</table>\n",
       "</div>"
      ],
      "text/plain": [
       "                                    clean_skill_keys  \\\n",
       "0  [Automotive Sales, Business-to-Business, Busin...   \n",
       "1  [Automotive Sales, Communication Skills, Custo...   \n",
       "2  [Automotive Sales, Communication Skills, Custo...   \n",
       "3  [Automotive Sales, Communication Skills, Custo...   \n",
       "4  [Buying Experience, Customer Service, Product ...   \n",
       "\n",
       "                                  clean_skill_values  \n",
       "0  [Sales: Specialized Sales;Specialized Skills, ...  \n",
       "1  [Sales: Specialized Sales;Specialized Skills, ...  \n",
       "2  [Sales: Specialized Sales;Specialized Skills, ...  \n",
       "3  [Sales: Specialized Sales;Specialized Skills, ...  \n",
       "4  [Supply Chain and Logistics: Procurement;Speci...  "
      ]
     },
     "execution_count": 10,
     "metadata": {},
     "output_type": "execute_result"
    }
   ],
   "source": [
    "%%time\n",
    "\n",
    "df['clean_skill_keys'] = df['CanonSkills'].apply(lambda x: clean_skill_keys(x))\n",
    "df['clean_skill_values'] = df['CanonSkills'].apply(lambda x: clean_skill_values(x))\n",
    "df[['clean_skill_keys', 'clean_skill_values']].head()"
   ]
  },
  {
   "cell_type": "code",
   "execution_count": 11,
   "metadata": {},
   "outputs": [
    {
     "data": {
      "text/plain": [
       "['Automotive Sales',\n",
       " 'Business-to-Business',\n",
       " 'Business-to-Business Sales',\n",
       " 'Customer Service',\n",
       " 'Inside Sales',\n",
       " 'Outside Sales',\n",
       " 'Retail Industry Knowledge',\n",
       " 'Retail Sales',\n",
       " 'Sales',\n",
       " 'Self-Starter']"
      ]
     },
     "execution_count": 11,
     "metadata": {},
     "output_type": "execute_result"
    }
   ],
   "source": [
    "df['clean_skill_keys'][0]"
   ]
  },
  {
   "cell_type": "code",
   "execution_count": 12,
   "metadata": {},
   "outputs": [
    {
     "data": {
      "text/plain": [
       "['Sales: Specialized Sales;Specialized Skills',\n",
       " 'Specialized Skills',\n",
       " 'Marketing and Public Relations: Marketing Software;Specialized Skills',\n",
       " 'Customer and Client Support: Basic Customer Service;Specialized Skills',\n",
       " 'Sales: Inside Sales;Specialized Skills',\n",
       " 'Sales: Outside Sales;Specialized Skills',\n",
       " 'Specialized Skills',\n",
       " 'Sales: Retail Sales;Specialized Skills',\n",
       " 'Sales: General Sales;Specialized Skills',\n",
       " 'Specialized Skills']"
      ]
     },
     "execution_count": 12,
     "metadata": {},
     "output_type": "execute_result"
    }
   ],
   "source": [
    "df['clean_skill_values'][0]"
   ]
  },
  {
   "cell_type": "code",
   "execution_count": 13,
   "metadata": {
    "tags": []
   },
   "outputs": [
    {
     "data": {
      "text/plain": [
       "0           Sales: Specialized Sales;Specialized Skills\n",
       "1           Sales: Specialized Sales;Specialized Skills\n",
       "2           Sales: Specialized Sales;Specialized Skills\n",
       "3           Sales: Specialized Sales;Specialized Skills\n",
       "4     Supply Chain and Logistics: Procurement;Specia...\n",
       "5     Supply Chain and Logistics: Procurement;Specia...\n",
       "6     Administration: Administrative Support;Special...\n",
       "7                                    Specialized Skills\n",
       "8                                    Specialized Skills\n",
       "9                                    Specialized Skills\n",
       "10          Sales: Specialized Sales;Specialized Skills\n",
       "11    Administration: Administrative Support;Special...\n",
       "12    Administration: Administrative Support;Special...\n",
       "13                                   Specialized Skills\n",
       "14                                   Specialized Skills\n",
       "Name: clean_skill_values, dtype: object"
      ]
     },
     "execution_count": 13,
     "metadata": {},
     "output_type": "execute_result"
    }
   ],
   "source": [
    "df['clean_skill_values'].str[0].head(15)"
   ]
  },
  {
   "cell_type": "markdown",
   "metadata": {},
   "source": [
    "Average amount of skills (as the key) per job found."
   ]
  },
  {
   "cell_type": "code",
   "execution_count": 60,
   "metadata": {
    "tags": []
   },
   "outputs": [
    {
     "name": "stdout",
     "output_type": "stream",
     "text": [
      "count    540143.000000\n",
      "mean         12.387899\n",
      "std           7.757378\n",
      "min           0.000000\n",
      "25%           7.000000\n",
      "50%          12.000000\n",
      "75%          17.000000\n",
      "max         235.000000\n",
      "Name: clean_skill_keys, dtype: float64\n",
      "\n",
      "count    540143.000000\n",
      "mean         12.387899\n",
      "std           7.757378\n",
      "min           0.000000\n",
      "25%           7.000000\n",
      "50%          12.000000\n",
      "75%          17.000000\n",
      "max         235.000000\n",
      "Name: clean_skill_values, dtype: float64\n"
     ]
    }
   ],
   "source": [
    "print(df['clean_skill_keys'].apply(len).describe())\n",
    "print()\n",
    "print(df['clean_skill_values'].apply(len).describe())"
   ]
  },
  {
   "cell_type": "markdown",
   "metadata": {},
   "source": [
    "Let's create a list of all of the skills in the dataset and keep all unique skills available. We will use both, the keys and the values already available in the dataset."
   ]
  },
  {
   "cell_type": "code",
   "execution_count": 49,
   "metadata": {
    "tags": []
   },
   "outputs": [],
   "source": [
    "skills_keys_list = []\n",
    "skills_values_list = []\n",
    "\n",
    "for skill_k in df['clean_skill_keys']:\n",
    "    skills_keys_list.extend(skill_k)\n",
    "\n",
    "for skill_v in df['clean_skill_values']:\n",
    "    skills_values_list.extend(skill_v)\n"
   ]
  },
  {
   "cell_type": "markdown",
   "metadata": {},
   "source": [
    "Here is the amount of skills found in the dataset **including** duplicates."
   ]
  },
  {
   "cell_type": "code",
   "execution_count": 50,
   "metadata": {},
   "outputs": [
    {
     "data": {
      "text/plain": [
       "(6691237, 6691237)"
      ]
     },
     "execution_count": 50,
     "metadata": {},
     "output_type": "execute_result"
    }
   ],
   "source": [
    "len(skills_keys_list), len(skills_values_list)"
   ]
  },
  {
   "cell_type": "markdown",
   "metadata": {},
   "source": [
    "Here is the amount of skills found in the dataset **without** duplicates."
   ]
  },
  {
   "cell_type": "code",
   "execution_count": 51,
   "metadata": {},
   "outputs": [
    {
     "data": {
      "text/plain": [
       "(7723, 500)"
      ]
     },
     "execution_count": 51,
     "metadata": {},
     "output_type": "execute_result"
    }
   ],
   "source": [
    "len(set(skills_keys_list)), len(set(skills_values_list))"
   ]
  },
  {
   "cell_type": "code",
   "execution_count": 52,
   "metadata": {},
   "outputs": [],
   "source": [
    "set_of_key_skills = set(skills_keys_list)\n",
    "set_of_value_skills = set(skills_values_list)"
   ]
  },
  {
   "cell_type": "code",
   "execution_count": 105,
   "metadata": {},
   "outputs": [
    {
     "data": {
      "text/html": [
       "<div>\n",
       "<style scoped>\n",
       "    .dataframe tbody tr th:only-of-type {\n",
       "        vertical-align: middle;\n",
       "    }\n",
       "\n",
       "    .dataframe tbody tr th {\n",
       "        vertical-align: top;\n",
       "    }\n",
       "\n",
       "    .dataframe thead th {\n",
       "        text-align: right;\n",
       "    }\n",
       "</style>\n",
       "<table border=\"1\" class=\"dataframe\">\n",
       "  <thead>\n",
       "    <tr style=\"text-align: right;\">\n",
       "      <th></th>\n",
       "      <th>BGTOcc</th>\n",
       "      <th>BGTSubOcc</th>\n",
       "      <th>CanonCity</th>\n",
       "      <th>CanonCounty</th>\n",
       "      <th>CanonEmployer</th>\n",
       "      <th>CanonJobHours</th>\n",
       "      <th>CanonJobTitle</th>\n",
       "      <th>CanonJobType</th>\n",
       "      <th>CanonSkillClusters</th>\n",
       "      <th>CanonSkills</th>\n",
       "      <th>CanonState</th>\n",
       "      <th>CanonYearsOfExperienceLevel</th>\n",
       "      <th>CleanJobTitle</th>\n",
       "      <th>ConsolidatedInferredNAICS</th>\n",
       "      <th>ConsolidatedONET</th>\n",
       "      <th>ConsolidatedTitle</th>\n",
       "      <th>DivisionCode</th>\n",
       "      <th>JobDate</th>\n",
       "      <th>JobID</th>\n",
       "      <th>JobText</th>\n",
       "      <th>LMA</th>\n",
       "      <th>Latitude</th>\n",
       "      <th>Longitude</th>\n",
       "      <th>MSA</th>\n",
       "      <th>MinExperience</th>\n",
       "      <th>occu_code</th>\n",
       "      <th>occu_text</th>\n",
       "      <th>cleaning_skills</th>\n",
       "      <th>clean_skill_keys</th>\n",
       "      <th>clean_skill_values</th>\n",
       "      <th>len_of_skills</th>\n",
       "    </tr>\n",
       "  </thead>\n",
       "  <tbody>\n",
       "    <tr>\n",
       "      <th>0</th>\n",
       "      <td>412031</td>\n",
       "      <td>Retail Sales Associate (General)</td>\n",
       "      <td>Foley</td>\n",
       "      <td>Baldwin</td>\n",
       "      <td>Chrysler</td>\n",
       "      <td>fulltime</td>\n",
       "      <td>Sales Associate</td>\n",
       "      <td>permanent</td>\n",
       "      <td>Sales: Specialized Sales;Specialized Skills|Sp...</td>\n",
       "      <td>{'Automotive Sales': 'Sales: Specialized Sales...</td>\n",
       "      <td>AL</td>\n",
       "      <td>NaN</td>\n",
       "      <td>Sales Associate</td>\n",
       "      <td>336111.0</td>\n",
       "      <td>41203100</td>\n",
       "      <td>Sales Associate</td>\n",
       "      <td>NaN</td>\n",
       "      <td>2017-03-25</td>\n",
       "      <td>38201188919</td>\n",
       "      <td>Sales Associates\\n-Foley,AL36535\\n-3781 S McKe...</td>\n",
       "      <td>MC011930</td>\n",
       "      <td>30.3962</td>\n",
       "      <td>-87.701897</td>\n",
       "      <td>19300: Metropolitan Statistical Area</td>\n",
       "      <td>NaN</td>\n",
       "      <td>412031</td>\n",
       "      <td>Retail Salespersons</td>\n",
       "      <td>{'Automotive Sales': 'Sales: Specialized Sales...</td>\n",
       "      <td>[Automotive Sales, Business-to-Business, Busin...</td>\n",
       "      <td>[Sales: Specialized Sales;Specialized Skills, ...</td>\n",
       "      <td>10</td>\n",
       "    </tr>\n",
       "    <tr>\n",
       "      <th>1</th>\n",
       "      <td>412031</td>\n",
       "      <td>Retail Sales Associate (General)</td>\n",
       "      <td>Foley</td>\n",
       "      <td>Baldwin</td>\n",
       "      <td>Chrysler</td>\n",
       "      <td>fulltime</td>\n",
       "      <td>Sales Associate</td>\n",
       "      <td>permanent</td>\n",
       "      <td>Sales: Specialized Sales;Specialized Skills|Co...</td>\n",
       "      <td>{'Automotive Sales': 'Sales: Specialized Sales...</td>\n",
       "      <td>AL</td>\n",
       "      <td>NaN</td>\n",
       "      <td>Automotive Sales Associate</td>\n",
       "      <td>336111.0</td>\n",
       "      <td>41203100</td>\n",
       "      <td>Sales Associate</td>\n",
       "      <td>NaN</td>\n",
       "      <td>2017-03-24</td>\n",
       "      <td>38200222343</td>\n",
       "      <td>AUTO SALES ASSOCIATES, ENTRY LEVEL\\n\\nGULF CHR...</td>\n",
       "      <td>MC011930</td>\n",
       "      <td>30.3962</td>\n",
       "      <td>-87.701897</td>\n",
       "      <td>19300: Metropolitan Statistical Area</td>\n",
       "      <td>NaN</td>\n",
       "      <td>412031</td>\n",
       "      <td>Retail Salespersons</td>\n",
       "      <td>{'Automotive Sales': 'Sales: Specialized Sales...</td>\n",
       "      <td>[Automotive Sales, Communication Skills, Custo...</td>\n",
       "      <td>[Sales: Specialized Sales;Specialized Skills, ...</td>\n",
       "      <td>9</td>\n",
       "    </tr>\n",
       "  </tbody>\n",
       "</table>\n",
       "</div>"
      ],
      "text/plain": [
       "   BGTOcc                         BGTSubOcc CanonCity CanonCounty  \\\n",
       "0  412031  Retail Sales Associate (General)     Foley     Baldwin   \n",
       "1  412031  Retail Sales Associate (General)     Foley     Baldwin   \n",
       "\n",
       "  CanonEmployer CanonJobHours    CanonJobTitle CanonJobType  \\\n",
       "0      Chrysler      fulltime  Sales Associate    permanent   \n",
       "1      Chrysler      fulltime  Sales Associate    permanent   \n",
       "\n",
       "                                  CanonSkillClusters  \\\n",
       "0  Sales: Specialized Sales;Specialized Skills|Sp...   \n",
       "1  Sales: Specialized Sales;Specialized Skills|Co...   \n",
       "\n",
       "                                         CanonSkills CanonState  \\\n",
       "0  {'Automotive Sales': 'Sales: Specialized Sales...         AL   \n",
       "1  {'Automotive Sales': 'Sales: Specialized Sales...         AL   \n",
       "\n",
       "  CanonYearsOfExperienceLevel               CleanJobTitle  \\\n",
       "0                         NaN             Sales Associate   \n",
       "1                         NaN  Automotive Sales Associate   \n",
       "\n",
       "   ConsolidatedInferredNAICS ConsolidatedONET ConsolidatedTitle  DivisionCode  \\\n",
       "0                   336111.0         41203100   Sales Associate           NaN   \n",
       "1                   336111.0         41203100   Sales Associate           NaN   \n",
       "\n",
       "     JobDate        JobID                                            JobText  \\\n",
       "0 2017-03-25  38201188919  Sales Associates\\n-Foley,AL36535\\n-3781 S McKe...   \n",
       "1 2017-03-24  38200222343  AUTO SALES ASSOCIATES, ENTRY LEVEL\\n\\nGULF CHR...   \n",
       "\n",
       "        LMA  Latitude  Longitude                                   MSA  \\\n",
       "0  MC011930   30.3962 -87.701897  19300: Metropolitan Statistical Area   \n",
       "1  MC011930   30.3962 -87.701897  19300: Metropolitan Statistical Area   \n",
       "\n",
       "   MinExperience  occu_code            occu_text  \\\n",
       "0            NaN     412031  Retail Salespersons   \n",
       "1            NaN     412031  Retail Salespersons   \n",
       "\n",
       "                                     cleaning_skills  \\\n",
       "0  {'Automotive Sales': 'Sales: Specialized Sales...   \n",
       "1  {'Automotive Sales': 'Sales: Specialized Sales...   \n",
       "\n",
       "                                    clean_skill_keys  \\\n",
       "0  [Automotive Sales, Business-to-Business, Busin...   \n",
       "1  [Automotive Sales, Communication Skills, Custo...   \n",
       "\n",
       "                                  clean_skill_values  len_of_skills  \n",
       "0  [Sales: Specialized Sales;Specialized Skills, ...             10  \n",
       "1  [Sales: Specialized Sales;Specialized Skills, ...              9  "
      ]
     },
     "execution_count": 105,
     "metadata": {},
     "output_type": "execute_result"
    }
   ],
   "source": [
    "df.head(2)"
   ]
  },
  {
   "cell_type": "code",
   "execution_count": 53,
   "metadata": {},
   "outputs": [
    {
     "data": {
      "text/plain": [
       "0    10\n",
       "1     9\n",
       "2     5\n",
       "3     5\n",
       "4     4\n",
       "Name: len_of_skills, dtype: int64"
      ]
     },
     "execution_count": 53,
     "metadata": {},
     "output_type": "execute_result"
    }
   ],
   "source": [
    "df['len_of_skills'] = df['clean_skill_keys'].apply(len)\n",
    "df['len_of_skills'].head()"
   ]
  },
  {
   "cell_type": "code",
   "execution_count": 61,
   "metadata": {},
   "outputs": [
    {
     "data": {
      "text/plain": [
       "occu_text\n",
       "Accountants and Auditors                                                     141038\n",
       "Actuaries                                                                      1021\n",
       "Adult Basic and Secondary Education and Literacy Teachers and Instructors        28\n",
       "Advertising Sales Agents                                                        604\n",
       "Aerospace Engineers                                                            5882\n",
       "Agricultural and Food Science Technicians                                       440\n",
       "Aircraft Mechanics and Service Technicians                                     6470\n",
       "Amusement and Recreation Attendants                                             278\n",
       "Animal Control Workers                                                         1332\n",
       "Animal Trainers                                                                  18\n",
       "Appraisers and Assessors of Real Estate                                        1228\n",
       "Architects, Except Landscape and Naval                                         6087\n",
       "Architectural and Civil Drafters                                                182\n",
       "Archivists                                                                       67\n",
       "Art Directors                                                                  3086\n",
       "Automotive Body and Related Repairers                                          9876\n",
       "Automotive Service Technicians and Mechanics                                 111133\n",
       "Automotive and Watercraft Service Attendants                                     43\n",
       "Avionics Technicians                                                            270\n",
       "Baggage Porters and Bellhops                                                     17\n",
       "Name: len_of_skills, dtype: int64"
      ]
     },
     "execution_count": 61,
     "metadata": {},
     "output_type": "execute_result"
    }
   ],
   "source": [
    "skill_per_occu = df.groupby('occu_text')\n",
    "skill_per_occu['len_of_skills'].agg('sum').head(20)"
   ]
  },
  {
   "cell_type": "code",
   "execution_count": null,
   "metadata": {},
   "outputs": [],
   "source": []
  },
  {
   "cell_type": "code",
   "execution_count": 63,
   "metadata": {},
   "outputs": [
    {
     "data": {
      "text/plain": [
       "['Retail Salespersons',\n",
       " 'Cleaners of Vehicles and Equipment',\n",
       " 'Automotive Service Technicians and Mechanics']"
      ]
     },
     "execution_count": 63,
     "metadata": {},
     "output_type": "execute_result"
    }
   ],
   "source": [
    "occups = list(df['occu_text'].unique())\n",
    "occups[:3]"
   ]
  },
  {
   "cell_type": "code",
   "execution_count": 88,
   "metadata": {},
   "outputs": [
    {
     "data": {
      "text/plain": [
       "0    [Automotive Sales, Business-to-Business, Busin...\n",
       "1    [Automotive Sales, Communication Skills, Custo...\n",
       "2    [Automotive Sales, Communication Skills, Custo...\n",
       "3    [Automotive Sales, Communication Skills, Custo...\n",
       "4    [Buying Experience, Customer Service, Product ...\n",
       "Name: clean_skill_keys, dtype: object"
      ]
     },
     "execution_count": 88,
     "metadata": {},
     "output_type": "execute_result"
    }
   ],
   "source": [
    "df.loc[df['occu_text'] == 'Retail Salespersons', 'clean_skill_keys'].head()"
   ]
  },
  {
   "cell_type": "code",
   "execution_count": 85,
   "metadata": {},
   "outputs": [],
   "source": [
    "def is_it_there(words_list, word):\n",
    "    if word in words_list:\n",
    "        return True\n",
    "    else:\n",
    "        return False"
   ]
  },
  {
   "cell_type": "code",
   "execution_count": 87,
   "metadata": {},
   "outputs": [
    {
     "data": {
      "text/plain": [
       "True"
      ]
     },
     "execution_count": 87,
     "metadata": {},
     "output_type": "execute_result"
    }
   ],
   "source": [
    "is_it_there(df.loc[df['occu_text'] == 'Retail Salespersons', 'clean_skill_keys'][0], 'Automotive Sales')"
   ]
  },
  {
   "cell_type": "code",
   "execution_count": 98,
   "metadata": {},
   "outputs": [],
   "source": [
    "df_tiny = df.sample(30).copy()"
   ]
  },
  {
   "cell_type": "code",
   "execution_count": 99,
   "metadata": {},
   "outputs": [
    {
     "data": {
      "text/html": [
       "<div>\n",
       "<style scoped>\n",
       "    .dataframe tbody tr th:only-of-type {\n",
       "        vertical-align: middle;\n",
       "    }\n",
       "\n",
       "    .dataframe tbody tr th {\n",
       "        vertical-align: top;\n",
       "    }\n",
       "\n",
       "    .dataframe thead th {\n",
       "        text-align: right;\n",
       "    }\n",
       "</style>\n",
       "<table border=\"1\" class=\"dataframe\">\n",
       "  <thead>\n",
       "    <tr style=\"text-align: right;\">\n",
       "      <th></th>\n",
       "      <th>0</th>\n",
       "    </tr>\n",
       "  </thead>\n",
       "  <tbody>\n",
       "    <tr>\n",
       "      <th>0</th>\n",
       "      <td>1.976263e-323</td>\n",
       "    </tr>\n",
       "    <tr>\n",
       "      <th>1</th>\n",
       "      <td>1.976263e-323</td>\n",
       "    </tr>\n",
       "    <tr>\n",
       "      <th>2</th>\n",
       "      <td>1.976263e-323</td>\n",
       "    </tr>\n",
       "    <tr>\n",
       "      <th>3</th>\n",
       "      <td>1.976263e-323</td>\n",
       "    </tr>\n",
       "    <tr>\n",
       "      <th>4</th>\n",
       "      <td>1.976263e-323</td>\n",
       "    </tr>\n",
       "  </tbody>\n",
       "</table>\n",
       "</div>"
      ],
      "text/plain": [
       "               0\n",
       "0  1.976263e-323\n",
       "1  1.976263e-323\n",
       "2  1.976263e-323\n",
       "3  1.976263e-323\n",
       "4  1.976263e-323"
      ]
     },
     "execution_count": 99,
     "metadata": {},
     "output_type": "execute_result"
    }
   ],
   "source": [
    "matr = np.empty((len(df_tiny), 1))\n",
    "empty_df_skills = pd.DataFrame(matr)\n",
    "empty_df_occu = pd.DataFrame(matr)\n",
    "empty_df_skills.head()"
   ]
  },
  {
   "cell_type": "code",
   "execution_count": null,
   "metadata": {},
   "outputs": [],
   "source": [
    "%%time\n",
    "\n",
    "# appearance = {}\n",
    "# app_dict = {}\n",
    "\n",
    "\n",
    "for skill in skill_set_list:\n",
    "        empty_df_skills[skill] = df_tiny.loc[:, 'clean_skill_keys'].apply(lambda x: is_it_there(x, skill))\n",
    "#     appearance[occu] += app_dict"
   ]
  },
  {
   "cell_type": "code",
   "execution_count": null,
   "metadata": {},
   "outputs": [],
   "source": [
    "def get_count(x):\n",
    "    return len(x)"
   ]
  },
  {
   "cell_type": "code",
   "execution_count": null,
   "metadata": {},
   "outputs": [],
   "source": [
    "empty_df_skills.head()"
   ]
  },
  {
   "cell_type": "code",
   "execution_count": 94,
   "metadata": {},
   "outputs": [
    {
     "ename": "KeyboardInterrupt",
     "evalue": "",
     "output_type": "error",
     "traceback": [
      "\u001b[0;31m---------------------------------------------------------------------------\u001b[0m",
      "\u001b[0;31mKeyboardInterrupt\u001b[0m                         Traceback (most recent call last)",
      "\u001b[0;32m<timed exec>\u001b[0m in \u001b[0;36m<module>\u001b[0;34m\u001b[0m\n",
      "\u001b[0;32m/opt/anaconda3/lib/python3.7/site-packages/pandas/core/series.py\u001b[0m in \u001b[0;36mapply\u001b[0;34m(self, func, convert_dtype, args, **kwds)\u001b[0m\n\u001b[1;32m   3846\u001b[0m             \u001b[0;32melse\u001b[0m\u001b[0;34m:\u001b[0m\u001b[0;34m\u001b[0m\u001b[0;34m\u001b[0m\u001b[0m\n\u001b[1;32m   3847\u001b[0m                 \u001b[0mvalues\u001b[0m \u001b[0;34m=\u001b[0m \u001b[0mself\u001b[0m\u001b[0;34m.\u001b[0m\u001b[0mastype\u001b[0m\u001b[0;34m(\u001b[0m\u001b[0mobject\u001b[0m\u001b[0;34m)\u001b[0m\u001b[0;34m.\u001b[0m\u001b[0mvalues\u001b[0m\u001b[0;34m\u001b[0m\u001b[0;34m\u001b[0m\u001b[0m\n\u001b[0;32m-> 3848\u001b[0;31m                 \u001b[0mmapped\u001b[0m \u001b[0;34m=\u001b[0m \u001b[0mlib\u001b[0m\u001b[0;34m.\u001b[0m\u001b[0mmap_infer\u001b[0m\u001b[0;34m(\u001b[0m\u001b[0mvalues\u001b[0m\u001b[0;34m,\u001b[0m \u001b[0mf\u001b[0m\u001b[0;34m,\u001b[0m \u001b[0mconvert\u001b[0m\u001b[0;34m=\u001b[0m\u001b[0mconvert_dtype\u001b[0m\u001b[0;34m)\u001b[0m\u001b[0;34m\u001b[0m\u001b[0;34m\u001b[0m\u001b[0m\n\u001b[0m\u001b[1;32m   3849\u001b[0m \u001b[0;34m\u001b[0m\u001b[0m\n\u001b[1;32m   3850\u001b[0m         \u001b[0;32mif\u001b[0m \u001b[0mlen\u001b[0m\u001b[0;34m(\u001b[0m\u001b[0mmapped\u001b[0m\u001b[0;34m)\u001b[0m \u001b[0;32mand\u001b[0m \u001b[0misinstance\u001b[0m\u001b[0;34m(\u001b[0m\u001b[0mmapped\u001b[0m\u001b[0;34m[\u001b[0m\u001b[0;36m0\u001b[0m\u001b[0;34m]\u001b[0m\u001b[0;34m,\u001b[0m \u001b[0mSeries\u001b[0m\u001b[0;34m)\u001b[0m\u001b[0;34m:\u001b[0m\u001b[0;34m\u001b[0m\u001b[0;34m\u001b[0m\u001b[0m\n",
      "\u001b[0;31mKeyboardInterrupt\u001b[0m: "
     ]
    }
   ],
   "source": [
    "%%time\n",
    "\n",
    "appearance = {}\n",
    "app_dict = {}\n",
    "\n",
    "\n",
    "for occu in occups:\n",
    "#     to_sum = []\n",
    "    for skill in skill_set_list:\n",
    "        app_dict[skill] = df_tiny.loc[df_tiny['occu_text'] == occu, 'clean_skill_keys'].apply(lambda x: is_it_there(x, skill)).sum()\n",
    "    appearance[occu] += app_dict\n",
    "#         df[occu] = df[occu].apply(int)\n",
    "#             app_dict[occu] += 1\n",
    "#             to_sum.append(skill)\n",
    "#         else:\n",
    "#     appearance.append(to_sum)"
   ]
  },
  {
   "cell_type": "code",
   "execution_count": 75,
   "metadata": {},
   "outputs": [
    {
     "data": {
      "text/plain": [
       "0    2\n",
       "1    4\n",
       "2    6\n",
       "dtype: int64"
      ]
     },
     "execution_count": 75,
     "metadata": {},
     "output_type": "execute_result"
    }
   ],
   "source": [
    "a_Ser = pd.Series([1, 2, 3])\n",
    "a_Ser += pd.Series([1, 2, 3])\n",
    "a_Ser"
   ]
  },
  {
   "cell_type": "markdown",
   "metadata": {},
   "source": [
    "## Assumptions 5\n",
    "\n",
    "> Are we able to capture function names & geography names?\n",
    "\n",
    "Additions\n",
    "1. Skills per state\n",
    "    - Top 20\n",
    "    - Bottom 20\n",
    "2. Skills per county"
   ]
  },
  {
   "cell_type": "code",
   "execution_count": null,
   "metadata": {},
   "outputs": [],
   "source": []
  },
  {
   "cell_type": "code",
   "execution_count": 28,
   "metadata": {},
   "outputs": [
    {
     "data": {
      "image/png": "[encoded data removed]",
      "text/plain": [
       "<Figure size 1080x576 with 1 Axes>"
      ]
     },
     "metadata": {
      "needs_background": "light"
     },
     "output_type": "display_data"
    }
   ],
   "source": [
    "states = df.groupby('CanonState')\n",
    "states['CanonJobTitle'].count().plot(kind='bar',\n",
    "                                     rot=90, \n",
    "                                     figsize=(15, 8),\n",
    "                                     color='green',\n",
    "                                     fontsize=14,\n",
    "                                     title='Number of Jobs per Location',\n",
    "                                     grid=True,\n",
    "                                     alpha=0.70);"
   ]
  },
  {
   "cell_type": "code",
   "execution_count": 34,
   "metadata": {},
   "outputs": [
    {
     "data": {
      "text/plain": [
       "BGTOcc                                 object\n",
       "BGTSubOcc                              object\n",
       "CanonCity                              object\n",
       "CanonCounty                            object\n",
       "CanonEmployer                          object\n",
       "CanonJobHours                          object\n",
       "CanonJobTitle                          object\n",
       "CanonJobType                           object\n",
       "CanonSkillClusters                     object\n",
       "CanonSkills                            object\n",
       "CanonState                             object\n",
       "CanonYearsOfExperienceLevel            object\n",
       "CleanJobTitle                          object\n",
       "ConsolidatedInferredNAICS             float64\n",
       "ConsolidatedONET                       object\n",
       "ConsolidatedTitle                      object\n",
       "DivisionCode                          float64\n",
       "JobDate                        datetime64[ns]\n",
       "JobID                                  object\n",
       "JobText                                object\n",
       "LMA                                    object\n",
       "Latitude                               object\n",
       "Longitude                              object\n",
       "MSA                                    object\n",
       "MinExperience                         float64\n",
       "occu_code                               int64\n",
       "occu_text                              object\n",
       "cleaning_skills                        object\n",
       "clean_skill_keys                       object\n",
       "clean_skill_values                     object\n",
       "dtype: object"
      ]
     },
     "execution_count": 34,
     "metadata": {},
     "output_type": "execute_result"
    }
   ],
   "source": [
    "df.dtypes"
   ]
  },
  {
   "cell_type": "code",
   "execution_count": 38,
   "metadata": {},
   "outputs": [],
   "source": [
    "df['Longitude'] = df['Longitude'].astype(np.float32)\n",
    "df['Latitude'] = df['Latitude'].astype(np.float32)"
   ]
  },
  {
   "cell_type": "code",
   "execution_count": 41,
   "metadata": {
    "scrolled": true
   },
   "outputs": [
    {
     "name": "stdout",
     "output_type": "stream",
     "text": [
      "Creating /Users/ramonperez/.bokeh directory\n",
      "Creating /Users/ramonperez/.bokeh/data directory\n",
      "Using data directory: /Users/ramonperez/.bokeh/data\n",
      "Downloading: CGM.csv (1589982 bytes)\n",
      "   1589982 [100.00%]\n",
      "Downloading: US_Counties.zip (3171836 bytes)\n",
      "   3171836 [100.00%]\n",
      "Unpacking: US_Counties.csv\n",
      "Downloading: us_cities.json (713565 bytes)\n",
      "    713565 [100.00%]\n",
      "Downloading: unemployment09.csv (253301 bytes)\n",
      "    253301 [100.00%]\n",
      "Downloading: AAPL.csv (166698 bytes)\n",
      "    166698 [100.00%]\n",
      "Downloading: FB.csv (9706 bytes)\n",
      "      9706 [100.00%]\n",
      "Downloading: GOOG.csv (113894 bytes)\n",
      "    113894 [100.00%]\n",
      "Downloading: IBM.csv (165625 bytes)\n",
      "    165625 [100.00%]\n",
      "Downloading: MSFT.csv (161614 bytes)\n",
      "    161614 [100.00%]\n",
      "Downloading: WPP2012_SA_DB03_POPULATION_QUINQUENNIAL.zip (4816256 bytes)\n",
      "   4816256 [100.00%]\n",
      "Unpacking: WPP2012_SA_DB03_POPULATION_QUINQUENNIAL.csv\n",
      "Downloading: gapminder_fertility.csv (64346 bytes)\n",
      "     64346 [100.00%]\n",
      "Downloading: gapminder_population.csv (94509 bytes)\n",
      "     94509 [100.00%]\n",
      "Downloading: gapminder_life_expectancy.csv (73243 bytes)\n",
      "     73243 [100.00%]\n",
      "Downloading: gapminder_regions.csv (7781 bytes)\n",
      "      7781 [100.00%]\n",
      "Downloading: world_cities.zip (645274 bytes)\n",
      "    645274 [100.00%]\n",
      "Unpacking: world_cities.csv\n",
      "Downloading: airports.json (6373 bytes)\n",
      "      6373 [100.00%]\n",
      "Downloading: movies.db.zip (5053420 bytes)\n",
      "   5053420 [100.00%]\n",
      "Unpacking: movies.db\n",
      "Downloading: airports.csv (203190 bytes)\n",
      "    203190 [100.00%]\n",
      "Downloading: routes.csv (377280 bytes)\n",
      "    377280 [100.00%]\n",
      "Downloading: haarcascade_frontalface_default.xml (930127 bytes)\n",
      "    930127 [100.00%]\n"
     ]
    }
   ],
   "source": [
    "import bokeh\n",
    "bokeh.sampledata.download()"
   ]
  },
  {
   "cell_type": "code",
   "execution_count": 42,
   "metadata": {},
   "outputs": [],
   "source": [
    "from bokeh.plotting import figure, show, output_file\n",
    "from bokeh.sampledata.us_counties import data as counties\n",
    "from bokeh.sampledata.us_states import data as states\n",
    "from bokeh.sampledata.unemployment import data as unemployment"
   ]
  },
  {
   "cell_type": "code",
   "execution_count": 48,
   "metadata": {
    "scrolled": true
   },
   "outputs": [
    {
     "data": {
      "text/plain": [
       "{'name': 'Nevada',\n",
       " 'region': 'Southwest',\n",
       " 'lats': [40.68928,\n",
       "  40.4958,\n",
       "  40.30302,\n",
       "  40.09896,\n",
       "  39.99994,\n",
       "  39.75817,\n",
       "  39.61018,\n",
       "  39.45715,\n",
       "  39.36296,\n",
       "  39.23851,\n",
       "  39.08777,\n",
       "  38.90545,\n",
       "  38.75165,\n",
       "  38.55049,\n",
       "  38.20495,\n",
       "  37.95499,\n",
       "  37.77873,\n",
       "  37.70735,\n",
       "  37.47222,\n",
       "  37.13439,\n",
       "  37.0004,\n",
       "  36.99997,\n",
       "  36.817,\n",
       "  36.60322,\n",
       "  36.37619,\n",
       "  36.21464,\n",
       "  36.09833,\n",
       "  36.01461,\n",
       "  36.10119,\n",
       "  36.15058,\n",
       "  36.11546,\n",
       "  36.05493,\n",
       "  35.98542,\n",
       "  35.9167,\n",
       "  35.86436,\n",
       "  35.81412,\n",
       "  35.73579,\n",
       "  35.66942,\n",
       "  35.60517,\n",
       "  35.5417,\n",
       "  35.49125,\n",
       "  35.37012,\n",
       "  35.21811,\n",
       "  35.14231,\n",
       "  35.11791,\n",
       "  35.07971,\n",
       "  35.00332,\n",
       "  35.00186,\n",
       "  35.00195,\n",
       "  35.15341,\n",
       "  35.38796,\n",
       "  35.59033,\n",
       "  35.81231,\n",
       "  36.0018,\n",
       "  36.14577,\n",
       "  36.37205,\n",
       "  36.75057,\n",
       "  37.08441,\n",
       "  37.43715,\n",
       "  37.6185,\n",
       "  37.75309,\n",
       "  37.96065,\n",
       "  38.30368,\n",
       "  38.60904,\n",
       "  38.83427,\n",
       "  38.98156,\n",
       "  39.37557,\n",
       "  39.57782,\n",
       "  39.79567,\n",
       "  40.08934,\n",
       "  40.39719,\n",
       "  40.86934,\n",
       "  41.26742,\n",
       "  41.97905,\n",
       "  41.99454,\n",
       "  41.99484,\n",
       "  41.9972,\n",
       "  41.99746,\n",
       "  41.99621,\n",
       "  41.99594,\n",
       "  41.99572,\n",
       "  41.99428,\n",
       "  41.99384,\n",
       "  41.99375,\n",
       "  41.99259,\n",
       "  41.99478,\n",
       "  41.99586,\n",
       "  41.99629,\n",
       "  41.99699,\n",
       "  41.9975,\n",
       "  41.99767,\n",
       "  41.99804,\n",
       "  41.99817,\n",
       "  41.99842,\n",
       "  41.99819,\n",
       "  41.99836,\n",
       "  41.99915,\n",
       "  41.9994,\n",
       "  41.9996,\n",
       "  42.00038,\n",
       "  42.00018,\n",
       "  42.00025,\n",
       "  41.99989,\n",
       "  41.99876,\n",
       "  41.99812,\n",
       "  41.99766,\n",
       "  41.99686,\n",
       "  41.99632,\n",
       "  41.99768,\n",
       "  41.99765,\n",
       "  41.99804,\n",
       "  41.99855,\n",
       "  41.99677,\n",
       "  41.99701,\n",
       "  41.99676,\n",
       "  41.99648,\n",
       "  41.9961,\n",
       "  41.99615,\n",
       "  41.99607,\n",
       "  41.99977,\n",
       "  41.99991,\n",
       "  41.9962,\n",
       "  41.99503,\n",
       "  41.9946,\n",
       "  41.99501,\n",
       "  41.99437,\n",
       "  41.99407,\n",
       "  41.99372,\n",
       "  41.99372,\n",
       "  41.89425,\n",
       "  41.59062,\n",
       "  41.36,\n",
       "  41.05548,\n",
       "  40.76026,\n",
       "  40.68985],\n",
       " 'lons': [-114.04392,\n",
       "  -114.04558,\n",
       "  -114.04619,\n",
       "  -114.04644,\n",
       "  -114.04658,\n",
       "  -114.04727,\n",
       "  -114.04757,\n",
       "  -114.0473,\n",
       "  -114.04779,\n",
       "  -114.04841,\n",
       "  -114.04885,\n",
       "  -114.04833,\n",
       "  -114.04916,\n",
       "  -114.04992,\n",
       "  -114.04997,\n",
       "  -114.05013,\n",
       "  -114.04939,\n",
       "  -114.05198,\n",
       "  -114.05264,\n",
       "  -114.05187,\n",
       "  -114.0506,\n",
       "  -114.0506,\n",
       "  -114.05014,\n",
       "  -114.04736,\n",
       "  -114.04338,\n",
       "  -114.04404,\n",
       "  -114.1139,\n",
       "  -114.22646,\n",
       "  -114.32346,\n",
       "  -114.51122,\n",
       "  -114.6729,\n",
       "  -114.73513,\n",
       "  -114.74365,\n",
       "  -114.70883,\n",
       "  -114.67489,\n",
       "  -114.70415,\n",
       "  -114.69704,\n",
       "  -114.68702,\n",
       "  -114.65449,\n",
       "  -114.66076,\n",
       "  -114.6768,\n",
       "  -114.61121,\n",
       "  -114.58031,\n",
       "  -114.57354,\n",
       "  -114.63064,\n",
       "  -114.60899,\n",
       "  -114.63423,\n",
       "  -114.63349,\n",
       "  -114.63361,\n",
       "  -114.82052,\n",
       "  -115.11622,\n",
       "  -115.36992,\n",
       "  -115.65233,\n",
       "  -115.89512,\n",
       "  -116.08072,\n",
       "  -116.37528,\n",
       "  -116.87227,\n",
       "  -117.31883,\n",
       "  -117.79563,\n",
       "  -118.04392,\n",
       "  -118.22972,\n",
       "  -118.51722,\n",
       "  -119.00097,\n",
       "  -119.43506,\n",
       "  -119.76041,\n",
       "  -119.9748,\n",
       "  -120.00608,\n",
       "  -120.0015,\n",
       "  -120.00049,\n",
       "  -119.99733,\n",
       "  -119.99567,\n",
       "  -119.99926,\n",
       "  -120.00002,\n",
       "  -119.99919,\n",
       "  -119.99917,\n",
       "  -119.99917,\n",
       "  -119.90622,\n",
       "  -119.80128,\n",
       "  -119.70479,\n",
       "  -119.61469,\n",
       "  -119.48157,\n",
       "  -119.36302,\n",
       "  -119.25103,\n",
       "  -119.0022,\n",
       "  -118.7824,\n",
       "  -118.54194,\n",
       "  -118.42657,\n",
       "  -118.3477,\n",
       "  -118.19842,\n",
       "  -118.09918,\n",
       "  -118.06386,\n",
       "  -117.99278,\n",
       "  -117.90359,\n",
       "  -117.79003,\n",
       "  -117.71943,\n",
       "  -117.62441,\n",
       "  -117.51839,\n",
       "  -117.46483,\n",
       "  -117.33055,\n",
       "  -117.18204,\n",
       "  -117.02916,\n",
       "  -117.02622,\n",
       "  -117.02234,\n",
       "  -116.861,\n",
       "  -116.70972,\n",
       "  -116.55307,\n",
       "  -116.48554,\n",
       "  -116.37594,\n",
       "  -116.20623,\n",
       "  -116.12593,\n",
       "  -116.01199,\n",
       "  -115.98839,\n",
       "  -115.84911,\n",
       "  -115.69522,\n",
       "  -115.52677,\n",
       "  -115.3968,\n",
       "  -115.31388,\n",
       "  -115.25015,\n",
       "  -115.12254,\n",
       "  -114.91817,\n",
       "  -114.76097,\n",
       "  -114.6492,\n",
       "  -114.61271,\n",
       "  -114.49854,\n",
       "  -114.39727,\n",
       "  -114.30408,\n",
       "  -114.18492,\n",
       "  -114.04537,\n",
       "  -114.04172,\n",
       "  -114.0398,\n",
       "  -114.04055,\n",
       "  -114.04061,\n",
       "  -114.04195,\n",
       "  -114.04375,\n",
       "  -114.04391]}"
      ]
     },
     "execution_count": 48,
     "metadata": {},
     "output_type": "execute_result"
    }
   ],
   "source": [
    "states['NV']"
   ]
  },
  {
   "cell_type": "code",
   "execution_count": null,
   "metadata": {},
   "outputs": [],
   "source": []
  },
  {
   "cell_type": "code",
   "execution_count": null,
   "metadata": {},
   "outputs": [],
   "source": [
    "\n",
    "\n",
    "# del states[\"HI\"]\n",
    "# del states[\"AK\"]\n",
    "\n",
    "# EXCLUDED = (\"ak\", \"hi\", \"pr\", \"gu\", \"vi\", \"mp\", \"as\")\n",
    "\n",
    "# state_xs = list(df['Longitude'].values())\n",
    "# state_ys = list(df['Latitude'].values())\n",
    "\n",
    "# county_xs=[counties[code][\"lons\"] for code in counties if counties[code][\"state\"] not in EXCLUDED]\n",
    "# county_ys=[counties[code][\"lats\"] for code in counties if counties[code][\"state\"] not in EXCLUDED]\n",
    "\n",
    "# colors = [\"#F1EEF6\", \"#D4B9DA\", \"#C994C7\", \"#DF65B0\", \"#DD1C77\", \"#980043\"]\n",
    "\n",
    "# county_colors = []\n",
    "# for county_id in counties:\n",
    "#     if counties[county_id][\"state\"] in EXCLUDED:\n",
    "#         continue\n",
    "#     try:\n",
    "#         rate = unemployment[county_id]\n",
    "#         idx = int(rate/6)\n",
    "#         county_colors.append(colors[idx])\n",
    "#     except KeyError:\n",
    "#         county_colors.append(\"black\")\n",
    "\n",
    "p = figure(title=\"US Unemployment 2009\", toolbar_location=\"left\",\n",
    "           plot_width=1100, plot_height=700)\n",
    "\n",
    "p.patches(df.loc[''], county_ys,\n",
    "          fill_color=county_colors, fill_alpha=0.7,\n",
    "          line_color=\"white\", line_width=0.5)\n",
    "\n",
    "p.patches(state_xs, state_ys, fill_alpha=0.0,\n",
    "          line_color=\"#884444\", line_width=2, line_alpha=0.3)\n",
    "\n",
    "output_file(\"choropleth.html\", title=\"choropleth.py example\")\n",
    "\n",
    "show(p)"
   ]
  },
  {
   "cell_type": "code",
   "execution_count": null,
   "metadata": {},
   "outputs": [],
   "source": []
  },
  {
   "cell_type": "code",
   "execution_count": 18,
   "metadata": {},
   "outputs": [
    {
     "data": {
      "text/plain": [
       "CanonJobTitle\n",
       ".Net Application Developer     56\n",
       ".Net Architect                 15\n",
       ".Net Developer                463\n",
       ".Net Programmer                37\n",
       ".Net Team Lead                  4\n",
       "Name: CanonJobTitle, dtype: int64"
      ]
     },
     "execution_count": 18,
     "metadata": {},
     "output_type": "execute_result"
    }
   ],
   "source": [
    "jobs_count = df.groupby('CanonJobTitle')['CanonJobTitle'].count()\n",
    "jobs_count.head()"
   ]
  },
  {
   "cell_type": "code",
   "execution_count": null,
   "metadata": {},
   "outputs": [],
   "source": [
    "occu_count = df.groupby('CanonJobTitle')['CanonJobTitle'].count()\n",
    "occu_count.head()"
   ]
  }
 ],
 "metadata": {
  "kernelspec": {
   "display_name": "Python 3",
   "language": "python",
   "name": "python3"
  },
  "language_info": {
   "codemirror_mode": {
    "name": "ipython",
    "version": 3
   },
   "file_extension": ".py",
   "mimetype": "text/x-python",
   "name": "python",
   "nbconvert_exporter": "python",
   "pygments_lexer": "ipython3",
   "version": "3.7.7"
  }
 },
 "nbformat": 4,
 "nbformat_minor": 4
}
