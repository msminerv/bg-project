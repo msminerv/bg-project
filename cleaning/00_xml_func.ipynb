{
 "cells": [
  {
   "cell_type": "code",
   "execution_count": 1,
   "metadata": {},
   "outputs": [],
   "source": [
    "import xml.etree.cElementTree as ET\n",
    "import pandas as pd\n",
    "import time, os\n",
    "import concurrent.futures as cf"
   ]
  },
  {
   "cell_type": "code",
   "execution_count": 5,
   "metadata": {
    "execution": {
     "iopub.execute_input": "2020-04-25T13:49:53.132Z",
     "iopub.status.busy": "2020-04-25T13:49:53.126Z",
     "iopub.status.idle": "2020-04-25T13:49:53.139Z",
     "shell.execute_reply": "2020-04-25T13:49:53.144Z"
    }
   },
   "outputs": [],
   "source": [
    "\n",
    "data_list = [\n",
    "    \n",
    "    'US_XML_AddFeed_20190319_20190325.xml', 'US_XML_AddFeed_20190305_20190311.xml',\n",
    "    'US_XML_AddFeed_20190326_20190401.xml', 'US_XML_AddFeed_20190402_20190408.xml'\n",
    "    \n",
    "]"
   ]
  },
  {
   "cell_type": "code",
   "execution_count": null,
   "metadata": {},
   "outputs": [],
   "source": [
    "%%time\n",
    "\n",
    "def parse_xml(file):\n",
    "\n",
    "    root = ET.parse(file + '.xml').getroot()\n",
    "\n",
    "    start_time = time.time()\n",
    "    counter = 0\n",
    "    jobs_list = []\n",
    "    for node in root:\n",
    "        job_dict = {}\n",
    "        for elem in node:\n",
    "            # print(elem.tag)\n",
    "            # print(elem.text)\n",
    "            if elem.tag not in job_dict.keys():\n",
    "                if elem.tag == \"CanonSkills\":\n",
    "                    skill_dict = {}\n",
    "                    for skill in elem:\n",
    "                        if skill.attrib:\n",
    "                            skill_dict.update({skill.attrib['name']: skill.attrib['clusterName']})\n",
    "\n",
    "                    job_dict[elem.tag] = skill_dict\n",
    "\n",
    "                else:\n",
    "                    job_dict[elem.tag] = elem.text\n",
    "            else:\n",
    "                print(elem.tag)\n",
    "        jobs_list.append(job_dict)\n",
    "        counter += 1\n",
    "        if counter % 1000 == 0:\n",
    "            elapsed_time = time.time() - start_time\n",
    "            print(str(counter) + \" records done, elapsed time: \"+str(elapsed_time)+\" sec\")\n",
    "\n",
    "    out_df = pd.DataFrame(jobs_list)\n",
    "\n",
    "    out_df.to_csv(f'{file}.csv', index=False)\n",
    "    \n",
    "    \n",
    "parse_xml(data_list)"
   ]
  },
  {
   "cell_type": "markdown",
   "metadata": {},
   "source": [
    "Before running the function on your list of data make sure you run the `os.cpu_count()` function below to determine how many cores you have in your machine. XML is not fun to parse and it takes a while, so I would recommmend to leave a few cores available so that you can use your computer while the code is running, if you have a spare computer available, then remove the `max_workers` parameter below to use all cores."
   ]
  },
  {
   "cell_type": "code",
   "execution_count": 2,
   "metadata": {},
   "outputs": [
    {
     "data": {
      "text/plain": [
       "8"
      ]
     },
     "execution_count": 2,
     "metadata": {},
     "output_type": "execute_result"
    }
   ],
   "source": [
    "os.cpu_count()"
   ]
  },
  {
   "cell_type": "code",
   "execution_count": null,
   "metadata": {
    "scrolled": true
   },
   "outputs": [],
   "source": [
    "%%time\n",
    "\n",
    "with cf.ProcessPoolExecutor(max_workers=4) as executor:\n",
    "    executor.map(parse_xml, data_list)"
   ]
  }
 ],
 "metadata": {
  "kernelspec": {
   "display_name": "Python 3",
   "language": "python",
   "name": "python3"
  },
  "language_info": {
   "codemirror_mode": {
    "name": "ipython",
    "version": 3
   },
   "file_extension": ".py",
   "mimetype": "text/x-python",
   "name": "python",
   "nbconvert_exporter": "python",
   "pygments_lexer": "ipython3",
   "version": "3.7.7"
  },
  "nteract": {
   "version": "0.22.4"
  }
 },
 "nbformat": 4,
 "nbformat_minor": 4
}
